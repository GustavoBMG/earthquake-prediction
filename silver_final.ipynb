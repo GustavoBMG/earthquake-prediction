{
 "cells": [
  {
   "cell_type": "code",
   "execution_count": 1,
   "metadata": {},
   "outputs": [],
   "source": [
    "import pandas as pd"
   ]
  },
  {
   "cell_type": "code",
   "execution_count": 2,
   "metadata": {},
   "outputs": [],
   "source": [
    "def print_memory(df):\n",
    "    print('Memory usage: {0:.2f}'.format(df.memory_usage().sum() / (1024 * 1024)) + ' MB')\n",
    "    print('{0:,d} x {1:,d}'.format(df.shape[0], df.shape[1]))"
   ]
  },
  {
   "cell_type": "markdown",
   "metadata": {},
   "source": [
    "## Read file"
   ]
  },
  {
   "cell_type": "code",
   "execution_count": 3,
   "metadata": {},
   "outputs": [
    {
     "name": "stdout",
     "output_type": "stream",
     "text": [
      "Index(['time', 'latitude', 'longitude', 'depth', 'mag', 'magType', 'nst',\n",
      "       'gap', 'dmin', 'rms', 'net', 'id', 'updated'],\n",
      "      dtype='object')\n",
      "\n",
      "\n",
      "Memory usage: 79.05 MB\n",
      "797,046 x 13\n"
     ]
    }
   ],
   "source": [
    "df = pd.read_csv('data/bronze/bronze.csv')\n",
    "df = df.iloc[:, 0:13]\n",
    "\n",
    "print(df.columns)\n",
    "print('\\n')\n",
    "print_memory(df)"
   ]
  },
  {
   "cell_type": "markdown",
   "metadata": {},
   "source": [
    "## Data cleaning"
   ]
  },
  {
   "cell_type": "markdown",
   "metadata": {},
   "source": [
    "### not used for now info"
   ]
  },
  {
   "cell_type": "code",
   "execution_count": 4,
   "metadata": {},
   "outputs": [
    {
     "name": "stdout",
     "output_type": "stream",
     "text": [
      "Memory usage: 36.49 MB\n",
      "797,046 x 6\n"
     ]
    }
   ],
   "source": [
    "dropCols = ['magType', 'nst', 'gap', 'dmin', 'rms', 'net', 'updated']\n",
    "df = df.drop(dropCols, axis=1)\n",
    "\n",
    "print_memory(df)"
   ]
  },
  {
   "cell_type": "markdown",
   "metadata": {},
   "source": [
    "### weird values"
   ]
  },
  {
   "cell_type": "code",
   "execution_count": 5,
   "metadata": {},
   "outputs": [
    {
     "name": "stdout",
     "output_type": "stream",
     "text": [
      "z above sup 1.34%\n",
      "\n",
      "Memory usage: 36.49 MB\n",
      "797,046 x 6\n"
     ]
    }
   ],
   "source": [
    "z_0 = df['depth'] < 0\n",
    "\n",
    "print('z above sup {0:.2%}\\n'.format(sum(z_0) / len(df)))\n",
    "\n",
    "df.loc[z_0, 'depth'] = 0\n",
    "\n",
    "print_memory(df)"
   ]
  },
  {
   "cell_type": "markdown",
   "metadata": {},
   "source": [
    "## Data parsing"
   ]
  },
  {
   "cell_type": "markdown",
   "metadata": {},
   "source": [
    "### date and time"
   ]
  },
  {
   "cell_type": "code",
   "execution_count": 6,
   "metadata": {},
   "outputs": [
    {
     "name": "stdout",
     "output_type": "stream",
     "text": [
      "<class 'pandas.core.frame.DataFrame'>\n",
      "RangeIndex: 797046 entries, 0 to 797045\n",
      "Data columns (total 7 columns):\n",
      " #   Column     Non-Null Count   Dtype         \n",
      "---  ------     --------------   -----         \n",
      " 0   latitude   797046 non-null  float64       \n",
      " 1   longitude  797046 non-null  float64       \n",
      " 2   depth      797041 non-null  float64       \n",
      " 3   mag        797046 non-null  float64       \n",
      " 4   id         797046 non-null  object        \n",
      " 5   hour       797046 non-null  int64         \n",
      " 6   date       797046 non-null  datetime64[ns]\n",
      "dtypes: datetime64[ns](1), float64(4), int64(1), object(1)\n",
      "memory usage: 42.6+ MB\n",
      "None\n"
     ]
    }
   ],
   "source": [
    "date_col = 'time'\n",
    "datetimes = df[date_col].str.split('T', expand = True)\n",
    "dates = pd.to_datetime(datetimes.loc[:, 0], format = '%Y-%m-%d')\n",
    "hours = datetimes.loc[:, 1].str.split(':', expand = True).iloc[:, 0]\n",
    "hours = hours.astype('int')\n",
    "df = pd.concat((df, hours.rename('hour')), axis=1)\n",
    "df = pd.concat((df, dates.rename('date')), axis=1)\n",
    "df = df.drop(date_col, axis=1)\n",
    "print(df.info())"
   ]
  },
  {
   "cell_type": "markdown",
   "metadata": {},
   "source": [
    "## Output"
   ]
  },
  {
   "cell_type": "code",
   "execution_count": 7,
   "metadata": {},
   "outputs": [],
   "source": [
    "df.sort_values(['date', 'hour'], ascending = [True, True]).to_csv('data/silver/silver.csv', index = False)"
   ]
  },
  {
   "cell_type": "code",
   "execution_count": null,
   "metadata": {},
   "outputs": [],
   "source": []
  }
 ],
 "metadata": {
  "kernelspec": {
   "display_name": "Python 3",
   "language": "python",
   "name": "python3"
  },
  "language_info": {
   "codemirror_mode": {
    "name": "ipython",
    "version": 3
   },
   "file_extension": ".py",
   "mimetype": "text/x-python",
   "name": "python",
   "nbconvert_exporter": "python",
   "pygments_lexer": "ipython3",
   "version": "3.7.3"
  },
  "name": "cleaner",
  "notebookId": 2998512591800969
 },
 "nbformat": 4,
 "nbformat_minor": 4
}
